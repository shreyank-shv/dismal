{
 "cells": [
  {
   "cell_type": "markdown",
   "id": "3cd1ccb5",
   "metadata": {},
   "source": [
    "# Introduction to Python"
   ]
  },
  {
   "cell_type": "markdown",
   "id": "39d10e35",
   "metadata": {},
   "source": [
    "## Variables and Datatypes\n",
    "1. Integer\n",
    "2. String\n",
    "3. Float\n",
    "4. Boolean\n",
    "5. List - list is mutable\n",
    "6. Tuples - not mutable\n",
    "7. Dictionary\n",
    "8. Set"
   ]
  },
  {
   "cell_type": "code",
   "execution_count": 47,
   "id": "cd35c9e5",
   "metadata": {},
   "outputs": [
    {
     "data": {
      "text/plain": [
       "(int, str, float, bool, list, tuple, dict, set)"
      ]
     },
     "execution_count": 47,
     "metadata": {},
     "output_type": "execute_result"
    }
   ],
   "source": [
    "x =5 \n",
    "name = \"Shreyank\"\n",
    "f = 3.0\n",
    "b = True\n",
    "l = [1, 2, 3]\n",
    "t = (1, 2)\n",
    "d = {'n1': \"name\", 'n2':\"name2\"}\n",
    "s = {1, 2, 3}\n",
    "type(x), type(name), type(f), type (b), type(l), type(t), type(d), type(s)"
   ]
  },
  {
   "cell_type": "markdown",
   "id": "eeede8bd",
   "metadata": {},
   "source": [
    "## Functions on a list"
   ]
  },
  {
   "cell_type": "code",
   "execution_count": 17,
   "id": "d804c95c",
   "metadata": {},
   "outputs": [
    {
     "name": "stdout",
     "output_type": "stream",
     "text": [
      "[1, 'name', 3.0, True]\n"
     ]
    }
   ],
   "source": [
    "#append\n",
    "\n",
    "l = []\n",
    "l.append(1), l.append(\"name\"), l.append(3.0), l.append(True)\n",
    "print(l)"
   ]
  },
  {
   "cell_type": "code",
   "execution_count": 20,
   "id": "e78b9943",
   "metadata": {},
   "outputs": [
    {
     "name": "stdout",
     "output_type": "stream",
     "text": [
      "[1, 'name', 3.0, True]\n"
     ]
    }
   ],
   "source": [
    "#copy\n",
    "l_2 = l.copy()\n",
    "print(l_2)"
   ]
  },
  {
   "cell_type": "code",
   "execution_count": 21,
   "id": "b57410d3",
   "metadata": {},
   "outputs": [
    {
     "name": "stdout",
     "output_type": "stream",
     "text": [
      "[1, 2, 3, 4]\n"
     ]
    }
   ],
   "source": [
    "#insert\n",
    "l_new = [1,2,3]\n",
    "l_new.insert(3, 4)\n",
    "print(l_new)"
   ]
  },
  {
   "cell_type": "code",
   "execution_count": 27,
   "id": "c609bd91",
   "metadata": {},
   "outputs": [
    {
     "data": {
      "text/plain": [
       "20"
      ]
     },
     "execution_count": 27,
     "metadata": {},
     "output_type": "execute_result"
    }
   ],
   "source": [
    "#len\n",
    "len(l)"
   ]
  },
  {
   "cell_type": "code",
   "execution_count": null,
   "id": "bc5c8646",
   "metadata": {},
   "outputs": [],
   "source": [
    "#extend\n",
    "l.extend(l_new)\n",
    "print(l)"
   ]
  },
  {
   "cell_type": "code",
   "execution_count": 31,
   "id": "3334f318",
   "metadata": {},
   "outputs": [
    {
     "name": "stdout",
     "output_type": "stream",
     "text": [
      "[1, 2, 3]\n",
      "[1, 2]\n"
     ]
    }
   ],
   "source": [
    "#pop\n",
    "print(l_new)\n",
    "l_new.pop()\n",
    "print(l_new)"
   ]
  },
  {
   "cell_type": "code",
   "execution_count": 34,
   "id": "3e1115d8",
   "metadata": {},
   "outputs": [
    {
     "name": "stdout",
     "output_type": "stream",
     "text": [
      "[4, 3, 2, 1, 4, 3, 2, 1, 4, 3, 2, 1, 4, 3, 2, 1, True, 3.0, 'name', 1]\n"
     ]
    }
   ],
   "source": [
    "#reverse\n",
    "l.reverse()\n",
    "print(l)"
   ]
  },
  {
   "cell_type": "code",
   "execution_count": 37,
   "id": "7a5cf32c",
   "metadata": {},
   "outputs": [
    {
     "name": "stdout",
     "output_type": "stream",
     "text": [
      "[4, 9, 7, 6, 2, 3, 1]\n",
      "[1, 2, 3, 4, 6, 7, 9]\n"
     ]
    },
    {
     "data": {
      "text/plain": [
       "(None, None)"
      ]
     },
     "execution_count": 37,
     "metadata": {},
     "output_type": "execute_result"
    }
   ],
   "source": [
    "#sort\n",
    "a = [4, 9  ,7 , 6 , 2, 3, 1]\n",
    "b = sorted(a)\n",
    "print(a), print(b)"
   ]
  },
  {
   "cell_type": "code",
   "execution_count": 38,
   "id": "cceda321",
   "metadata": {},
   "outputs": [
    {
     "name": "stdout",
     "output_type": "stream",
     "text": [
      "['How', 'to', 'use', 'split', 'function?']\n"
     ]
    }
   ],
   "source": [
    "#split\n",
    "sentence = \"How to use split function?\"\n",
    "split_sentence = sentence.split(\" \")\n",
    "print(split_sentence)"
   ]
  },
  {
   "cell_type": "markdown",
   "id": "7c79b766",
   "metadata": {},
   "source": [
    "## Dictionary\n"
   ]
  },
  {
   "cell_type": "code",
   "execution_count": 40,
   "id": "579eaf2a",
   "metadata": {},
   "outputs": [
    {
     "name": "stdout",
     "output_type": "stream",
     "text": [
      "{'car1': 'Merc', 'car2': 'GM', 'car3': ['maruti', 'suzuki']}\n"
     ]
    }
   ],
   "source": [
    "my_dict = {'car1':'Merc', 'car2':'GM', 'car3': ['maruti', 'suzuki']}\n",
    "print(my_dict)"
   ]
  },
  {
   "cell_type": "code",
   "execution_count": 41,
   "id": "4930abaf",
   "metadata": {},
   "outputs": [
    {
     "data": {
      "text/plain": [
       "dict_items([('car1', 'Merc'), ('car2', 'GM'), ('car3', ['maruti', 'suzuki'])])"
      ]
     },
     "execution_count": 41,
     "metadata": {},
     "output_type": "execute_result"
    }
   ],
   "source": [
    "my_dict.items()\n",
    "#individual item of dictionary is a tuple"
   ]
  },
  {
   "cell_type": "code",
   "execution_count": 42,
   "id": "3fb73b57",
   "metadata": {},
   "outputs": [
    {
     "data": {
      "text/plain": [
       "dict_keys(['car1', 'car2', 'car3'])"
      ]
     },
     "execution_count": 42,
     "metadata": {},
     "output_type": "execute_result"
    }
   ],
   "source": [
    "my_dict.keys()"
   ]
  },
  {
   "cell_type": "code",
   "execution_count": 43,
   "id": "b1c3023d",
   "metadata": {},
   "outputs": [
    {
     "data": {
      "text/plain": [
       "dict_values(['Merc', 'GM', ['maruti', 'suzuki']])"
      ]
     },
     "execution_count": 43,
     "metadata": {},
     "output_type": "execute_result"
    }
   ],
   "source": [
    "my_dict.values()"
   ]
  },
  {
   "cell_type": "markdown",
   "id": "bd07b9f6",
   "metadata": {},
   "source": [
    "## Tuple\n",
    "* If a tuple has single object, end it with a \",\" :: t = (\"Shre\",)\n",
    "* Cannot change value of any element in a tuple"
   ]
  },
  {
   "cell_type": "code",
   "execution_count": 48,
   "id": "6b2f0d24",
   "metadata": {},
   "outputs": [
    {
     "data": {
      "text/plain": [
       "tuple"
      ]
     },
     "execution_count": 48,
     "metadata": {},
     "output_type": "execute_result"
    }
   ],
   "source": [
    "t = (1, 2, 3)\n",
    "type(t)"
   ]
  },
  {
   "cell_type": "markdown",
   "id": "20aa5e57",
   "metadata": {},
   "source": [
    "## Sets"
   ]
  },
  {
   "cell_type": "code",
   "execution_count": 49,
   "id": "d092c7d3",
   "metadata": {},
   "outputs": [
    {
     "data": {
      "text/plain": [
       "{1, 2, 3}"
      ]
     },
     "execution_count": 49,
     "metadata": {},
     "output_type": "execute_result"
    }
   ],
   "source": [
    "s = set ([1, 2, 3])\n",
    "s"
   ]
  },
  {
   "cell_type": "code",
   "execution_count": 50,
   "id": "67a88884",
   "metadata": {},
   "outputs": [
    {
     "data": {
      "text/plain": [
       "{1, 2, 3, 4}"
      ]
     },
     "execution_count": 50,
     "metadata": {},
     "output_type": "execute_result"
    }
   ],
   "source": [
    "s.add(4)\n",
    "s"
   ]
  },
  {
   "cell_type": "markdown",
   "id": "3f60dc15",
   "metadata": {},
   "source": [
    "## If - Else Statement"
   ]
  },
  {
   "cell_type": "code",
   "execution_count": 51,
   "id": "08f37296",
   "metadata": {},
   "outputs": [
    {
     "name": "stdout",
     "output_type": "stream",
     "text": [
      "Valid number\n"
     ]
    }
   ],
   "source": [
    "num = 10 \n",
    "if num > 9:\n",
    "    print(\"Valid number\")\n",
    "else:\n",
    "    print(\"invalid number\")"
   ]
  },
  {
   "cell_type": "markdown",
   "id": "b2126c7e",
   "metadata": {},
   "source": [
    "## For Loops\n",
    "\n",
    "* Iterable \n",
    "* Iterator"
   ]
  },
  {
   "cell_type": "code",
   "execution_count": 52,
   "id": "5f6ca5fd",
   "metadata": {},
   "outputs": [
    {
     "name": "stdout",
     "output_type": "stream",
     "text": [
      "1\n",
      "2\n",
      "3\n",
      "4\n",
      "5\n"
     ]
    }
   ],
   "source": [
    "li = [1, 2, 3, 4, 5]\n",
    "\n",
    "for val in li:\n",
    "    print(val)"
   ]
  },
  {
   "cell_type": "code",
   "execution_count": null,
   "id": "4ab766e5",
   "metadata": {},
   "outputs": [],
   "source": []
  }
 ],
 "metadata": {
  "kernelspec": {
   "display_name": "Python 3 (ipykernel)",
   "language": "python",
   "name": "python3"
  },
  "language_info": {
   "codemirror_mode": {
    "name": "ipython",
    "version": 3
   },
   "file_extension": ".py",
   "mimetype": "text/x-python",
   "name": "python",
   "nbconvert_exporter": "python",
   "pygments_lexer": "ipython3",
   "version": "3.9.5"
  }
 },
 "nbformat": 4,
 "nbformat_minor": 5
}
