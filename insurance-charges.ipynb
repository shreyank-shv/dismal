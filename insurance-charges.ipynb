{
 "cells": [
  {
   "cell_type": "code",
   "execution_count": 1,
   "id": "e9a63dd4",
   "metadata": {
    "_cell_guid": "b1076dfc-b9ad-4769-8c92-a6c4dae69d19",
    "_uuid": "8f2839f25d086af736a60e9eeb907d3b93b6e0e5",
    "execution": {
     "iopub.execute_input": "2022-01-07T21:34:42.896990Z",
     "iopub.status.busy": "2022-01-07T21:34:42.895876Z",
     "iopub.status.idle": "2022-01-07T21:34:42.915079Z",
     "shell.execute_reply": "2022-01-07T21:34:42.915536Z",
     "shell.execute_reply.started": "2022-01-07T21:31:46.987078Z"
    },
    "papermill": {
     "duration": 0.036194,
     "end_time": "2022-01-07T21:34:42.915856",
     "exception": false,
     "start_time": "2022-01-07T21:34:42.879662",
     "status": "completed"
    },
    "tags": []
   },
   "outputs": [
    {
     "name": "stdout",
     "output_type": "stream",
     "text": [
      "/kaggle/input/insurance/insurance.csv\n"
     ]
    }
   ],
   "source": [
    "# This Python 3 environment comes with many helpful analytics libraries installed\n",
    "# It is defined by the kaggle/python Docker image: https://github.com/kaggle/docker-python\n",
    "# For example, here's several helpful packages to load\n",
    "\n",
    "import numpy as np # linear algebra\n",
    "import pandas as pd # data processing, CSV file I/O (e.g. pd.read_csv)\n",
    "\n",
    "# Input data files are available in the read-only \"../input/\" directory\n",
    "# For example, running this (by clicking run or pressing Shift+Enter) will list all files under the input directory\n",
    "\n",
    "import os\n",
    "for dirname, _, filenames in os.walk('/kaggle/input'):\n",
    "    for filename in filenames:\n",
    "        print(os.path.join(dirname, filename))\n",
    "\n",
    "# You can write up to 20GB to the current directory (/kaggle/working/) that gets preserved as output when you create a version using \"Save & Run All\" \n",
    "# You can also write temporary files to /kaggle/temp/, but they won't be saved outside of the current session"
   ]
  },
  {
   "cell_type": "code",
   "execution_count": 2,
   "id": "0f6f0048",
   "metadata": {
    "execution": {
     "iopub.execute_input": "2022-01-07T21:34:42.944474Z",
     "iopub.status.busy": "2022-01-07T21:34:42.943702Z",
     "iopub.status.idle": "2022-01-07T21:34:42.963733Z",
     "shell.execute_reply": "2022-01-07T21:34:42.964196Z",
     "shell.execute_reply.started": "2022-01-07T21:31:47.013008Z"
    },
    "papermill": {
     "duration": 0.035568,
     "end_time": "2022-01-07T21:34:42.964393",
     "exception": false,
     "start_time": "2022-01-07T21:34:42.928825",
     "status": "completed"
    },
    "tags": []
   },
   "outputs": [],
   "source": [
    "df = pd.read_csv(\"../input/insurance/insurance.csv\")"
   ]
  },
  {
   "cell_type": "code",
   "execution_count": 3,
   "id": "e779cac3",
   "metadata": {
    "execution": {
     "iopub.execute_input": "2022-01-07T21:34:42.992807Z",
     "iopub.status.busy": "2022-01-07T21:34:42.992166Z",
     "iopub.status.idle": "2022-01-07T21:34:43.014084Z",
     "shell.execute_reply": "2022-01-07T21:34:43.014876Z",
     "shell.execute_reply.started": "2022-01-07T21:31:47.034682Z"
    },
    "papermill": {
     "duration": 0.03776,
     "end_time": "2022-01-07T21:34:43.015131",
     "exception": false,
     "start_time": "2022-01-07T21:34:42.977371",
     "status": "completed"
    },
    "tags": []
   },
   "outputs": [
    {
     "data": {
      "text/html": [
       "<div>\n",
       "<style scoped>\n",
       "    .dataframe tbody tr th:only-of-type {\n",
       "        vertical-align: middle;\n",
       "    }\n",
       "\n",
       "    .dataframe tbody tr th {\n",
       "        vertical-align: top;\n",
       "    }\n",
       "\n",
       "    .dataframe thead th {\n",
       "        text-align: right;\n",
       "    }\n",
       "</style>\n",
       "<table border=\"1\" class=\"dataframe\">\n",
       "  <thead>\n",
       "    <tr style=\"text-align: right;\">\n",
       "      <th></th>\n",
       "      <th>age</th>\n",
       "      <th>sex</th>\n",
       "      <th>bmi</th>\n",
       "      <th>children</th>\n",
       "      <th>smoker</th>\n",
       "      <th>region</th>\n",
       "      <th>charges</th>\n",
       "    </tr>\n",
       "  </thead>\n",
       "  <tbody>\n",
       "    <tr>\n",
       "      <th>0</th>\n",
       "      <td>19</td>\n",
       "      <td>female</td>\n",
       "      <td>27.900</td>\n",
       "      <td>0</td>\n",
       "      <td>yes</td>\n",
       "      <td>southwest</td>\n",
       "      <td>16884.92400</td>\n",
       "    </tr>\n",
       "    <tr>\n",
       "      <th>1</th>\n",
       "      <td>18</td>\n",
       "      <td>male</td>\n",
       "      <td>33.770</td>\n",
       "      <td>1</td>\n",
       "      <td>no</td>\n",
       "      <td>southeast</td>\n",
       "      <td>1725.55230</td>\n",
       "    </tr>\n",
       "    <tr>\n",
       "      <th>2</th>\n",
       "      <td>28</td>\n",
       "      <td>male</td>\n",
       "      <td>33.000</td>\n",
       "      <td>3</td>\n",
       "      <td>no</td>\n",
       "      <td>southeast</td>\n",
       "      <td>4449.46200</td>\n",
       "    </tr>\n",
       "    <tr>\n",
       "      <th>3</th>\n",
       "      <td>33</td>\n",
       "      <td>male</td>\n",
       "      <td>22.705</td>\n",
       "      <td>0</td>\n",
       "      <td>no</td>\n",
       "      <td>northwest</td>\n",
       "      <td>21984.47061</td>\n",
       "    </tr>\n",
       "    <tr>\n",
       "      <th>4</th>\n",
       "      <td>32</td>\n",
       "      <td>male</td>\n",
       "      <td>28.880</td>\n",
       "      <td>0</td>\n",
       "      <td>no</td>\n",
       "      <td>northwest</td>\n",
       "      <td>3866.85520</td>\n",
       "    </tr>\n",
       "  </tbody>\n",
       "</table>\n",
       "</div>"
      ],
      "text/plain": [
       "   age     sex     bmi  children smoker     region      charges\n",
       "0   19  female  27.900         0    yes  southwest  16884.92400\n",
       "1   18    male  33.770         1     no  southeast   1725.55230\n",
       "2   28    male  33.000         3     no  southeast   4449.46200\n",
       "3   33    male  22.705         0     no  northwest  21984.47061\n",
       "4   32    male  28.880         0     no  northwest   3866.85520"
      ]
     },
     "execution_count": 3,
     "metadata": {},
     "output_type": "execute_result"
    }
   ],
   "source": [
    "df.head(5)"
   ]
  },
  {
   "cell_type": "code",
   "execution_count": 4,
   "id": "722af04b",
   "metadata": {
    "execution": {
     "iopub.execute_input": "2022-01-07T21:34:43.052145Z",
     "iopub.status.busy": "2022-01-07T21:34:43.051188Z",
     "iopub.status.idle": "2022-01-07T21:34:43.055308Z",
     "shell.execute_reply": "2022-01-07T21:34:43.055741Z",
     "shell.execute_reply.started": "2022-01-07T21:31:47.060223Z"
    },
    "papermill": {
     "duration": 0.024646,
     "end_time": "2022-01-07T21:34:43.055942",
     "exception": false,
     "start_time": "2022-01-07T21:34:43.031296",
     "status": "completed"
    },
    "tags": []
   },
   "outputs": [
    {
     "data": {
      "text/plain": [
       "(1338, 7)"
      ]
     },
     "execution_count": 4,
     "metadata": {},
     "output_type": "execute_result"
    }
   ],
   "source": [
    "df.shape"
   ]
  },
  {
   "cell_type": "code",
   "execution_count": 5,
   "id": "dc01addf",
   "metadata": {
    "execution": {
     "iopub.execute_input": "2022-01-07T21:34:43.086447Z",
     "iopub.status.busy": "2022-01-07T21:34:43.085498Z",
     "iopub.status.idle": "2022-01-07T21:34:43.119515Z",
     "shell.execute_reply": "2022-01-07T21:34:43.120195Z",
     "shell.execute_reply.started": "2022-01-07T21:31:47.067920Z"
    },
    "papermill": {
     "duration": 0.051167,
     "end_time": "2022-01-07T21:34:43.120378",
     "exception": false,
     "start_time": "2022-01-07T21:34:43.069211",
     "status": "completed"
    },
    "tags": []
   },
   "outputs": [
    {
     "data": {
      "text/html": [
       "<div>\n",
       "<style scoped>\n",
       "    .dataframe tbody tr th:only-of-type {\n",
       "        vertical-align: middle;\n",
       "    }\n",
       "\n",
       "    .dataframe tbody tr th {\n",
       "        vertical-align: top;\n",
       "    }\n",
       "\n",
       "    .dataframe thead th {\n",
       "        text-align: right;\n",
       "    }\n",
       "</style>\n",
       "<table border=\"1\" class=\"dataframe\">\n",
       "  <thead>\n",
       "    <tr style=\"text-align: right;\">\n",
       "      <th></th>\n",
       "      <th>age</th>\n",
       "      <th>bmi</th>\n",
       "      <th>children</th>\n",
       "      <th>charges</th>\n",
       "    </tr>\n",
       "  </thead>\n",
       "  <tbody>\n",
       "    <tr>\n",
       "      <th>count</th>\n",
       "      <td>1338.000000</td>\n",
       "      <td>1338.000000</td>\n",
       "      <td>1338.000000</td>\n",
       "      <td>1338.000000</td>\n",
       "    </tr>\n",
       "    <tr>\n",
       "      <th>mean</th>\n",
       "      <td>39.207025</td>\n",
       "      <td>30.663397</td>\n",
       "      <td>1.094918</td>\n",
       "      <td>13270.422265</td>\n",
       "    </tr>\n",
       "    <tr>\n",
       "      <th>std</th>\n",
       "      <td>14.049960</td>\n",
       "      <td>6.098187</td>\n",
       "      <td>1.205493</td>\n",
       "      <td>12110.011237</td>\n",
       "    </tr>\n",
       "    <tr>\n",
       "      <th>min</th>\n",
       "      <td>18.000000</td>\n",
       "      <td>15.960000</td>\n",
       "      <td>0.000000</td>\n",
       "      <td>1121.873900</td>\n",
       "    </tr>\n",
       "    <tr>\n",
       "      <th>25%</th>\n",
       "      <td>27.000000</td>\n",
       "      <td>26.296250</td>\n",
       "      <td>0.000000</td>\n",
       "      <td>4740.287150</td>\n",
       "    </tr>\n",
       "    <tr>\n",
       "      <th>50%</th>\n",
       "      <td>39.000000</td>\n",
       "      <td>30.400000</td>\n",
       "      <td>1.000000</td>\n",
       "      <td>9382.033000</td>\n",
       "    </tr>\n",
       "    <tr>\n",
       "      <th>75%</th>\n",
       "      <td>51.000000</td>\n",
       "      <td>34.693750</td>\n",
       "      <td>2.000000</td>\n",
       "      <td>16639.912515</td>\n",
       "    </tr>\n",
       "    <tr>\n",
       "      <th>max</th>\n",
       "      <td>64.000000</td>\n",
       "      <td>53.130000</td>\n",
       "      <td>5.000000</td>\n",
       "      <td>63770.428010</td>\n",
       "    </tr>\n",
       "  </tbody>\n",
       "</table>\n",
       "</div>"
      ],
      "text/plain": [
       "               age          bmi     children       charges\n",
       "count  1338.000000  1338.000000  1338.000000   1338.000000\n",
       "mean     39.207025    30.663397     1.094918  13270.422265\n",
       "std      14.049960     6.098187     1.205493  12110.011237\n",
       "min      18.000000    15.960000     0.000000   1121.873900\n",
       "25%      27.000000    26.296250     0.000000   4740.287150\n",
       "50%      39.000000    30.400000     1.000000   9382.033000\n",
       "75%      51.000000    34.693750     2.000000  16639.912515\n",
       "max      64.000000    53.130000     5.000000  63770.428010"
      ]
     },
     "execution_count": 5,
     "metadata": {},
     "output_type": "execute_result"
    }
   ],
   "source": [
    "df.describe()"
   ]
  },
  {
   "cell_type": "code",
   "execution_count": 6,
   "id": "13177a2e",
   "metadata": {
    "execution": {
     "iopub.execute_input": "2022-01-07T21:34:43.151019Z",
     "iopub.status.busy": "2022-01-07T21:34:43.150105Z",
     "iopub.status.idle": "2022-01-07T21:34:43.163652Z",
     "shell.execute_reply": "2022-01-07T21:34:43.164223Z",
     "shell.execute_reply.started": "2022-01-07T21:31:47.106816Z"
    },
    "papermill": {
     "duration": 0.029764,
     "end_time": "2022-01-07T21:34:43.164397",
     "exception": false,
     "start_time": "2022-01-07T21:34:43.134633",
     "status": "completed"
    },
    "tags": []
   },
   "outputs": [
    {
     "name": "stdout",
     "output_type": "stream",
     "text": [
      "<class 'pandas.core.frame.DataFrame'>\n",
      "RangeIndex: 1338 entries, 0 to 1337\n",
      "Data columns (total 7 columns):\n",
      " #   Column    Non-Null Count  Dtype  \n",
      "---  ------    --------------  -----  \n",
      " 0   age       1338 non-null   int64  \n",
      " 1   sex       1338 non-null   object \n",
      " 2   bmi       1338 non-null   float64\n",
      " 3   children  1338 non-null   int64  \n",
      " 4   smoker    1338 non-null   object \n",
      " 5   region    1338 non-null   object \n",
      " 6   charges   1338 non-null   float64\n",
      "dtypes: float64(2), int64(2), object(3)\n",
      "memory usage: 73.3+ KB\n"
     ]
    }
   ],
   "source": [
    "df.info()"
   ]
  },
  {
   "cell_type": "code",
   "execution_count": 7,
   "id": "fdc3beac",
   "metadata": {
    "execution": {
     "iopub.execute_input": "2022-01-07T21:34:43.197751Z",
     "iopub.status.busy": "2022-01-07T21:34:43.197113Z",
     "iopub.status.idle": "2022-01-07T21:34:43.199528Z",
     "shell.execute_reply": "2022-01-07T21:34:43.199975Z",
     "shell.execute_reply.started": "2022-01-07T21:31:47.123309Z"
    },
    "papermill": {
     "duration": 0.022582,
     "end_time": "2022-01-07T21:34:43.200160",
     "exception": false,
     "start_time": "2022-01-07T21:34:43.177578",
     "status": "completed"
    },
    "tags": []
   },
   "outputs": [],
   "source": [
    "df['smoker'] = df['smoker'].map({\"yes\":1, \"no\":0})"
   ]
  },
  {
   "cell_type": "code",
   "execution_count": 8,
   "id": "ed62b266",
   "metadata": {
    "execution": {
     "iopub.execute_input": "2022-01-07T21:34:43.239162Z",
     "iopub.status.busy": "2022-01-07T21:34:43.238435Z",
     "iopub.status.idle": "2022-01-07T21:34:43.240936Z",
     "shell.execute_reply": "2022-01-07T21:34:43.241379Z",
     "shell.execute_reply.started": "2022-01-07T21:31:47.136402Z"
    },
    "papermill": {
     "duration": 0.027953,
     "end_time": "2022-01-07T21:34:43.241543",
     "exception": false,
     "start_time": "2022-01-07T21:34:43.213590",
     "status": "completed"
    },
    "tags": []
   },
   "outputs": [
    {
     "data": {
      "text/html": [
       "<div>\n",
       "<style scoped>\n",
       "    .dataframe tbody tr th:only-of-type {\n",
       "        vertical-align: middle;\n",
       "    }\n",
       "\n",
       "    .dataframe tbody tr th {\n",
       "        vertical-align: top;\n",
       "    }\n",
       "\n",
       "    .dataframe thead th {\n",
       "        text-align: right;\n",
       "    }\n",
       "</style>\n",
       "<table border=\"1\" class=\"dataframe\">\n",
       "  <thead>\n",
       "    <tr style=\"text-align: right;\">\n",
       "      <th></th>\n",
       "      <th>age</th>\n",
       "      <th>sex</th>\n",
       "      <th>bmi</th>\n",
       "      <th>children</th>\n",
       "      <th>smoker</th>\n",
       "      <th>region</th>\n",
       "      <th>charges</th>\n",
       "    </tr>\n",
       "  </thead>\n",
       "  <tbody>\n",
       "    <tr>\n",
       "      <th>0</th>\n",
       "      <td>19</td>\n",
       "      <td>female</td>\n",
       "      <td>27.900</td>\n",
       "      <td>0</td>\n",
       "      <td>1</td>\n",
       "      <td>southwest</td>\n",
       "      <td>16884.92400</td>\n",
       "    </tr>\n",
       "    <tr>\n",
       "      <th>1</th>\n",
       "      <td>18</td>\n",
       "      <td>male</td>\n",
       "      <td>33.770</td>\n",
       "      <td>1</td>\n",
       "      <td>0</td>\n",
       "      <td>southeast</td>\n",
       "      <td>1725.55230</td>\n",
       "    </tr>\n",
       "    <tr>\n",
       "      <th>2</th>\n",
       "      <td>28</td>\n",
       "      <td>male</td>\n",
       "      <td>33.000</td>\n",
       "      <td>3</td>\n",
       "      <td>0</td>\n",
       "      <td>southeast</td>\n",
       "      <td>4449.46200</td>\n",
       "    </tr>\n",
       "    <tr>\n",
       "      <th>3</th>\n",
       "      <td>33</td>\n",
       "      <td>male</td>\n",
       "      <td>22.705</td>\n",
       "      <td>0</td>\n",
       "      <td>0</td>\n",
       "      <td>northwest</td>\n",
       "      <td>21984.47061</td>\n",
       "    </tr>\n",
       "    <tr>\n",
       "      <th>4</th>\n",
       "      <td>32</td>\n",
       "      <td>male</td>\n",
       "      <td>28.880</td>\n",
       "      <td>0</td>\n",
       "      <td>0</td>\n",
       "      <td>northwest</td>\n",
       "      <td>3866.85520</td>\n",
       "    </tr>\n",
       "  </tbody>\n",
       "</table>\n",
       "</div>"
      ],
      "text/plain": [
       "   age     sex     bmi  children  smoker     region      charges\n",
       "0   19  female  27.900         0       1  southwest  16884.92400\n",
       "1   18    male  33.770         1       0  southeast   1725.55230\n",
       "2   28    male  33.000         3       0  southeast   4449.46200\n",
       "3   33    male  22.705         0       0  northwest  21984.47061\n",
       "4   32    male  28.880         0       0  northwest   3866.85520"
      ]
     },
     "execution_count": 8,
     "metadata": {},
     "output_type": "execute_result"
    }
   ],
   "source": [
    "df.head(5)"
   ]
  },
  {
   "cell_type": "code",
   "execution_count": 9,
   "id": "cf2993f3",
   "metadata": {
    "execution": {
     "iopub.execute_input": "2022-01-07T21:34:43.271714Z",
     "iopub.status.busy": "2022-01-07T21:34:43.271094Z",
     "iopub.status.idle": "2022-01-07T21:34:44.285958Z",
     "shell.execute_reply": "2022-01-07T21:34:44.285006Z",
     "shell.execute_reply.started": "2022-01-07T21:31:47.155453Z"
    },
    "papermill": {
     "duration": 1.031014,
     "end_time": "2022-01-07T21:34:44.286117",
     "exception": false,
     "start_time": "2022-01-07T21:34:43.255103",
     "status": "completed"
    },
    "tags": []
   },
   "outputs": [
    {
     "data": {
      "text/html": [
       "<div>\n",
       "<style scoped>\n",
       "    .dataframe tbody tr th:only-of-type {\n",
       "        vertical-align: middle;\n",
       "    }\n",
       "\n",
       "    .dataframe tbody tr th {\n",
       "        vertical-align: top;\n",
       "    }\n",
       "\n",
       "    .dataframe thead th {\n",
       "        text-align: right;\n",
       "    }\n",
       "</style>\n",
       "<table border=\"1\" class=\"dataframe\">\n",
       "  <thead>\n",
       "    <tr style=\"text-align: right;\">\n",
       "      <th></th>\n",
       "      <th>age</th>\n",
       "      <th>sex</th>\n",
       "      <th>bmi</th>\n",
       "      <th>children</th>\n",
       "      <th>smoker</th>\n",
       "      <th>region</th>\n",
       "      <th>charges</th>\n",
       "      <th>enc_sex</th>\n",
       "    </tr>\n",
       "  </thead>\n",
       "  <tbody>\n",
       "    <tr>\n",
       "      <th>0</th>\n",
       "      <td>19</td>\n",
       "      <td>female</td>\n",
       "      <td>27.900</td>\n",
       "      <td>0</td>\n",
       "      <td>1</td>\n",
       "      <td>southwest</td>\n",
       "      <td>16884.92400</td>\n",
       "      <td>0</td>\n",
       "    </tr>\n",
       "    <tr>\n",
       "      <th>1</th>\n",
       "      <td>18</td>\n",
       "      <td>male</td>\n",
       "      <td>33.770</td>\n",
       "      <td>1</td>\n",
       "      <td>0</td>\n",
       "      <td>southeast</td>\n",
       "      <td>1725.55230</td>\n",
       "      <td>1</td>\n",
       "    </tr>\n",
       "    <tr>\n",
       "      <th>2</th>\n",
       "      <td>28</td>\n",
       "      <td>male</td>\n",
       "      <td>33.000</td>\n",
       "      <td>3</td>\n",
       "      <td>0</td>\n",
       "      <td>southeast</td>\n",
       "      <td>4449.46200</td>\n",
       "      <td>1</td>\n",
       "    </tr>\n",
       "    <tr>\n",
       "      <th>3</th>\n",
       "      <td>33</td>\n",
       "      <td>male</td>\n",
       "      <td>22.705</td>\n",
       "      <td>0</td>\n",
       "      <td>0</td>\n",
       "      <td>northwest</td>\n",
       "      <td>21984.47061</td>\n",
       "      <td>1</td>\n",
       "    </tr>\n",
       "    <tr>\n",
       "      <th>4</th>\n",
       "      <td>32</td>\n",
       "      <td>male</td>\n",
       "      <td>28.880</td>\n",
       "      <td>0</td>\n",
       "      <td>0</td>\n",
       "      <td>northwest</td>\n",
       "      <td>3866.85520</td>\n",
       "      <td>1</td>\n",
       "    </tr>\n",
       "  </tbody>\n",
       "</table>\n",
       "</div>"
      ],
      "text/plain": [
       "   age     sex     bmi  children  smoker     region      charges  enc_sex\n",
       "0   19  female  27.900         0       1  southwest  16884.92400        0\n",
       "1   18    male  33.770         1       0  southeast   1725.55230        1\n",
       "2   28    male  33.000         3       0  southeast   4449.46200        1\n",
       "3   33    male  22.705         0       0  northwest  21984.47061        1\n",
       "4   32    male  28.880         0       0  northwest   3866.85520        1"
      ]
     },
     "execution_count": 9,
     "metadata": {},
     "output_type": "execute_result"
    }
   ],
   "source": [
    "from sklearn.preprocessing import LabelEncoder\n",
    "\n",
    "cat_encoder = LabelEncoder()\n",
    "\n",
    "df['enc_sex'] = cat_encoder.fit_transform(df['sex'])\n",
    "df.head(5)"
   ]
  },
  {
   "cell_type": "code",
   "execution_count": 10,
   "id": "e17bcb02",
   "metadata": {
    "execution": {
     "iopub.execute_input": "2022-01-07T21:34:44.321150Z",
     "iopub.status.busy": "2022-01-07T21:34:44.320148Z",
     "iopub.status.idle": "2022-01-07T21:34:44.329933Z",
     "shell.execute_reply": "2022-01-07T21:34:44.330350Z",
     "shell.execute_reply.started": "2022-01-07T21:31:47.613443Z"
    },
    "papermill": {
     "duration": 0.030474,
     "end_time": "2022-01-07T21:34:44.330529",
     "exception": false,
     "start_time": "2022-01-07T21:34:44.300055",
     "status": "completed"
    },
    "tags": []
   },
   "outputs": [
    {
     "name": "stdout",
     "output_type": "stream",
     "text": [
      "<class 'pandas.core.frame.DataFrame'>\n",
      "RangeIndex: 1338 entries, 0 to 1337\n",
      "Data columns (total 8 columns):\n",
      " #   Column    Non-Null Count  Dtype  \n",
      "---  ------    --------------  -----  \n",
      " 0   age       1338 non-null   int64  \n",
      " 1   sex       1338 non-null   object \n",
      " 2   bmi       1338 non-null   float64\n",
      " 3   children  1338 non-null   int64  \n",
      " 4   smoker    1338 non-null   int64  \n",
      " 5   region    1338 non-null   object \n",
      " 6   charges   1338 non-null   float64\n",
      " 7   enc_sex   1338 non-null   int64  \n",
      "dtypes: float64(2), int64(4), object(2)\n",
      "memory usage: 83.8+ KB\n"
     ]
    }
   ],
   "source": [
    "df.info()"
   ]
  },
  {
   "cell_type": "code",
   "execution_count": 11,
   "id": "07a96d5f",
   "metadata": {
    "execution": {
     "iopub.execute_input": "2022-01-07T21:34:44.363347Z",
     "iopub.status.busy": "2022-01-07T21:34:44.362647Z",
     "iopub.status.idle": "2022-01-07T21:34:44.613829Z",
     "shell.execute_reply": "2022-01-07T21:34:44.613192Z",
     "shell.execute_reply.started": "2022-01-07T21:31:47.629085Z"
    },
    "papermill": {
     "duration": 0.269334,
     "end_time": "2022-01-07T21:34:44.613972",
     "exception": false,
     "start_time": "2022-01-07T21:34:44.344638",
     "status": "completed"
    },
    "tags": []
   },
   "outputs": [],
   "source": [
    "from category_encoders import JamesSteinEncoder\n",
    "\n",
    "jstein_encoder = JamesSteinEncoder()\n",
    "\n",
    "df['j_stein_region'] = jstein_encoder.fit_transform(df['region'], df['charges'])"
   ]
  },
  {
   "cell_type": "code",
   "execution_count": 12,
   "id": "696e8119",
   "metadata": {
    "execution": {
     "iopub.execute_input": "2022-01-07T21:34:44.648686Z",
     "iopub.status.busy": "2022-01-07T21:34:44.647287Z",
     "iopub.status.idle": "2022-01-07T21:34:44.650733Z",
     "shell.execute_reply": "2022-01-07T21:34:44.651282Z",
     "shell.execute_reply.started": "2022-01-07T21:31:47.750655Z"
    },
    "papermill": {
     "duration": 0.023076,
     "end_time": "2022-01-07T21:34:44.651460",
     "exception": false,
     "start_time": "2022-01-07T21:34:44.628384",
     "status": "completed"
    },
    "tags": []
   },
   "outputs": [],
   "source": [
    "X = df.drop(['charges', 'sex', 'region'], axis=1)\n",
    "y = df.charges"
   ]
  },
  {
   "cell_type": "code",
   "execution_count": 13,
   "id": "5c6fba63",
   "metadata": {
    "execution": {
     "iopub.execute_input": "2022-01-07T21:34:44.682993Z",
     "iopub.status.busy": "2022-01-07T21:34:44.682382Z",
     "iopub.status.idle": "2022-01-07T21:34:44.687607Z",
     "shell.execute_reply": "2022-01-07T21:34:44.688066Z",
     "shell.execute_reply.started": "2022-01-07T21:31:47.768523Z"
    },
    "papermill": {
     "duration": 0.022593,
     "end_time": "2022-01-07T21:34:44.688239",
     "exception": false,
     "start_time": "2022-01-07T21:34:44.665646",
     "status": "completed"
    },
    "tags": []
   },
   "outputs": [
    {
     "data": {
      "text/plain": [
       "((1338, 6), (1338,))"
      ]
     },
     "execution_count": 13,
     "metadata": {},
     "output_type": "execute_result"
    }
   ],
   "source": [
    "X.shape, y.shape"
   ]
  },
  {
   "cell_type": "code",
   "execution_count": 14,
   "id": "b874157a",
   "metadata": {
    "execution": {
     "iopub.execute_input": "2022-01-07T21:34:44.725381Z",
     "iopub.status.busy": "2022-01-07T21:34:44.724405Z",
     "iopub.status.idle": "2022-01-07T21:34:44.730959Z",
     "shell.execute_reply": "2022-01-07T21:34:44.731454Z",
     "shell.execute_reply.started": "2022-01-07T21:31:47.776811Z"
    },
    "papermill": {
     "duration": 0.028706,
     "end_time": "2022-01-07T21:34:44.731628",
     "exception": false,
     "start_time": "2022-01-07T21:34:44.702922",
     "status": "completed"
    },
    "tags": []
   },
   "outputs": [
    {
     "data": {
      "text/html": [
       "<div>\n",
       "<style scoped>\n",
       "    .dataframe tbody tr th:only-of-type {\n",
       "        vertical-align: middle;\n",
       "    }\n",
       "\n",
       "    .dataframe tbody tr th {\n",
       "        vertical-align: top;\n",
       "    }\n",
       "\n",
       "    .dataframe thead th {\n",
       "        text-align: right;\n",
       "    }\n",
       "</style>\n",
       "<table border=\"1\" class=\"dataframe\">\n",
       "  <thead>\n",
       "    <tr style=\"text-align: right;\">\n",
       "      <th></th>\n",
       "      <th>age</th>\n",
       "      <th>bmi</th>\n",
       "      <th>children</th>\n",
       "      <th>smoker</th>\n",
       "      <th>enc_sex</th>\n",
       "      <th>j_stein_region</th>\n",
       "    </tr>\n",
       "  </thead>\n",
       "  <tbody>\n",
       "    <tr>\n",
       "      <th>0</th>\n",
       "      <td>19</td>\n",
       "      <td>27.900</td>\n",
       "      <td>0</td>\n",
       "      <td>1</td>\n",
       "      <td>0</td>\n",
       "      <td>12493.665012</td>\n",
       "    </tr>\n",
       "    <tr>\n",
       "      <th>1</th>\n",
       "      <td>18</td>\n",
       "      <td>33.770</td>\n",
       "      <td>1</td>\n",
       "      <td>0</td>\n",
       "      <td>1</td>\n",
       "      <td>14456.577036</td>\n",
       "    </tr>\n",
       "    <tr>\n",
       "      <th>2</th>\n",
       "      <td>28</td>\n",
       "      <td>33.000</td>\n",
       "      <td>3</td>\n",
       "      <td>0</td>\n",
       "      <td>1</td>\n",
       "      <td>14456.577036</td>\n",
       "    </tr>\n",
       "    <tr>\n",
       "      <th>3</th>\n",
       "      <td>33</td>\n",
       "      <td>22.705</td>\n",
       "      <td>0</td>\n",
       "      <td>0</td>\n",
       "      <td>1</td>\n",
       "      <td>12547.016330</td>\n",
       "    </tr>\n",
       "    <tr>\n",
       "      <th>4</th>\n",
       "      <td>32</td>\n",
       "      <td>28.880</td>\n",
       "      <td>0</td>\n",
       "      <td>0</td>\n",
       "      <td>1</td>\n",
       "      <td>12547.016330</td>\n",
       "    </tr>\n",
       "  </tbody>\n",
       "</table>\n",
       "</div>"
      ],
      "text/plain": [
       "   age     bmi  children  smoker  enc_sex  j_stein_region\n",
       "0   19  27.900         0       1        0    12493.665012\n",
       "1   18  33.770         1       0        1    14456.577036\n",
       "2   28  33.000         3       0        1    14456.577036\n",
       "3   33  22.705         0       0        1    12547.016330\n",
       "4   32  28.880         0       0        1    12547.016330"
      ]
     },
     "execution_count": 14,
     "metadata": {},
     "output_type": "execute_result"
    }
   ],
   "source": [
    "X.head(5)"
   ]
  },
  {
   "cell_type": "code",
   "execution_count": 15,
   "id": "9b195ef2",
   "metadata": {
    "execution": {
     "iopub.execute_input": "2022-01-07T21:34:44.767003Z",
     "iopub.status.busy": "2022-01-07T21:34:44.766382Z",
     "iopub.status.idle": "2022-01-07T21:34:44.820255Z",
     "shell.execute_reply": "2022-01-07T21:34:44.820717Z",
     "shell.execute_reply.started": "2022-01-07T21:31:47.796781Z"
    },
    "papermill": {
     "duration": 0.073986,
     "end_time": "2022-01-07T21:34:44.820969",
     "exception": false,
     "start_time": "2022-01-07T21:34:44.746983",
     "status": "completed"
    },
    "tags": []
   },
   "outputs": [],
   "source": [
    "from sklearn.model_selection import train_test_split\n",
    "\n",
    "X_train, X_test, y_train, y_test = train_test_split(X, y, test_size=0.2, random_state=0)"
   ]
  },
  {
   "cell_type": "code",
   "execution_count": 16,
   "id": "97d6e7da",
   "metadata": {
    "execution": {
     "iopub.execute_input": "2022-01-07T21:34:44.856696Z",
     "iopub.status.busy": "2022-01-07T21:34:44.856067Z",
     "iopub.status.idle": "2022-01-07T21:34:48.370224Z",
     "shell.execute_reply": "2022-01-07T21:34:48.369660Z",
     "shell.execute_reply.started": "2022-01-07T21:31:47.866086Z"
    },
    "papermill": {
     "duration": 3.534507,
     "end_time": "2022-01-07T21:34:48.370367",
     "exception": false,
     "start_time": "2022-01-07T21:34:44.835860",
     "status": "completed"
    },
    "tags": []
   },
   "outputs": [
    {
     "name": "stdout",
     "output_type": "stream",
     "text": [
      "2577.6825758631944\n"
     ]
    }
   ],
   "source": [
    "from sklearn.ensemble import RandomForestRegressor\n",
    "from sklearn.metrics import mean_absolute_error\n",
    "\n",
    "model2 = RandomForestRegressor(n_estimators=1000)\n",
    "\n",
    "model2.fit(X_train, y_train)\n",
    "\n",
    "y_pred = model2.predict(X_test)\n",
    "\n",
    "score_rand = mean_absolute_error(y_pred, y_test)\n",
    "print(score_rand)"
   ]
  },
  {
   "cell_type": "code",
   "execution_count": 17,
   "id": "76ef8497",
   "metadata": {
    "execution": {
     "iopub.execute_input": "2022-01-07T21:34:48.406908Z",
     "iopub.status.busy": "2022-01-07T21:34:48.406292Z",
     "iopub.status.idle": "2022-01-07T21:34:48.408862Z",
     "shell.execute_reply": "2022-01-07T21:34:48.409310Z",
     "shell.execute_reply.started": "2022-01-07T21:31:51.888029Z"
    },
    "papermill": {
     "duration": 0.023481,
     "end_time": "2022-01-07T21:34:48.409477",
     "exception": false,
     "start_time": "2022-01-07T21:34:48.385996",
     "status": "completed"
    },
    "tags": []
   },
   "outputs": [
    {
     "name": "stdout",
     "output_type": "stream",
     "text": [
      "0.8718719025658718\n"
     ]
    }
   ],
   "source": [
    "from sklearn.metrics import r2_score\n",
    "score_r2 = r2_score(y_pred, y_test)\n",
    "print(score_r2)"
   ]
  },
  {
   "cell_type": "code",
   "execution_count": 18,
   "id": "a36c9ae8",
   "metadata": {
    "execution": {
     "iopub.execute_input": "2022-01-07T21:34:48.443170Z",
     "iopub.status.busy": "2022-01-07T21:34:48.442534Z",
     "iopub.status.idle": "2022-01-07T21:34:48.695667Z",
     "shell.execute_reply": "2022-01-07T21:34:48.695202Z",
     "shell.execute_reply.started": "2022-01-07T21:31:51.896607Z"
    },
    "papermill": {
     "duration": 0.271299,
     "end_time": "2022-01-07T21:34:48.695824",
     "exception": false,
     "start_time": "2022-01-07T21:34:48.424525",
     "status": "completed"
    },
    "tags": []
   },
   "outputs": [
    {
     "data": {
      "text/plain": [
       "<function matplotlib.pyplot.show(close=None, block=None)>"
      ]
     },
     "execution_count": 18,
     "metadata": {},
     "output_type": "execute_result"
    },
    {
     "data": {
      "image/png": "[encoded data removed]",
      "text/plain": [
       "<Figure size 432x288 with 1 Axes>"
      ]
     },
     "metadata": {
      "needs_background": "light"
     },
     "output_type": "display_data"
    }
   ],
   "source": [
    "import matplotlib.pyplot as plt\n",
    "\n",
    "#plt.scatter(y_pred, y_test, color='red')\n",
    "plt.scatter(range(len(y_test)), y_test, color='blue')\n",
    "plt.scatter(range(len(y_pred)), y_pred, color='red')\n",
    "plt.show"
   ]
  }
 ],
 "metadata": {
  "kernelspec": {
   "display_name": "Python 3",
   "language": "python",
   "name": "python3"
  },
  "language_info": {
   "codemirror_mode": {
    "name": "ipython",
    "version": 3
   },
   "file_extension": ".py",
   "mimetype": "text/x-python",
   "name": "python",
   "nbconvert_exporter": "python",
   "pygments_lexer": "ipython3",
   "version": "3.7.12"
  },
  "papermill": {
   "default_parameters": {},
   "duration": 15.588938,
   "end_time": "2022-01-07T21:34:49.422189",
   "environment_variables": {},
   "exception": null,
   "input_path": "__notebook__.ipynb",
   "output_path": "__notebook__.ipynb",
   "parameters": {},
   "start_time": "2022-01-07T21:34:33.833251",
   "version": "2.3.3"
  }
 },
 "nbformat": 4,
 "nbformat_minor": 5
}
